version https://git-lfs.github.com/spec/v1
oid sha256:d9c7c6e5da6aa5f0444dbfdf2dc999a717fea54911efbfabb8f685c4d155786a
size 23714178
